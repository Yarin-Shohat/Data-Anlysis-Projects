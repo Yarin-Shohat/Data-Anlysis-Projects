{
  "cells": [
    {
      "cell_type": "markdown",
      "metadata": {
        "id": "view-in-github",
        "colab_type": "text"
      },
      "source": [
        "<a href=\"https://colab.research.google.com/github/Yarin-Shohat/Data-Anlysis-Projects/blob/main/Project%201%20-%20Weather/Project_1_Weather_Data_Analysis_Start.ipynb\" target=\"_parent\"><img src=\"https://colab.research.google.com/assets/colab-badge.svg\" alt=\"Open In Colab\"/></a>"
      ]
    },
    {
      "cell_type": "markdown",
      "metadata": {
        "id": "pnQCwtol3mIh"
      },
      "source": [
        "# **Working on Real Project with Python**"
      ]
    },
    {
      "cell_type": "markdown",
      "metadata": {
        "id": "pmSS6uHE3mIi"
      },
      "source": [
        "# The Weather Dataset\n",
        "***\n",
        "Here,\n",
        "The Weather Dataset is a time-series data set with per-hour information about the weather conditions at a particular location. It records Temperature, Dew Point Temperature, Relative Humidity, Wind Speed, Visibility, Pressure, and Conditions.\n",
        "\n",
        "\n",
        "This data is available as a CSV file. We are going to analyze this data set using the Pandas DataFrame."
      ]
    },
    {
      "cell_type": "markdown",
      "source": [
        "Import Pandas"
      ],
      "metadata": {
        "id": "sd81cAdJ38om"
      }
    },
    {
      "cell_type": "code",
      "execution_count": null,
      "metadata": {
        "id": "2CgEakEK3mIi"
      },
      "outputs": [],
      "source": []
    },
    {
      "cell_type": "markdown",
      "source": [
        "Read Data with Pandas"
      ],
      "metadata": {
        "id": "zAOKlCPK4Aex"
      }
    },
    {
      "cell_type": "code",
      "source": [],
      "metadata": {
        "id": "RuG94JE14DzP"
      },
      "execution_count": null,
      "outputs": []
    },
    {
      "cell_type": "markdown",
      "source": [
        "Show the Data"
      ],
      "metadata": {
        "id": "w-g0LYSJ4EPe"
      }
    },
    {
      "cell_type": "code",
      "source": [],
      "metadata": {
        "id": "1u2ofSaq4EcQ"
      },
      "execution_count": null,
      "outputs": []
    },
    {
      "cell_type": "markdown",
      "metadata": {
        "id": "nKj8n_kr3mIj"
      },
      "source": [
        "# How to Analyze DataFrames ?"
      ]
    },
    {
      "cell_type": "markdown",
      "metadata": {
        "id": "9beYkwCk3mIj"
      },
      "source": [
        "# .head()\n",
        "It shows the first N rows in the data (by default, N=5)."
      ]
    },
    {
      "cell_type": "code",
      "source": [],
      "metadata": {
        "id": "FhAuASgl3ue-"
      },
      "execution_count": null,
      "outputs": []
    },
    {
      "cell_type": "markdown",
      "metadata": {
        "id": "cUHgULAw3mIk"
      },
      "source": [
        "# .shape\n",
        "\n",
        "It shows the total no. of rows and no. of columns of the dataframe"
      ]
    },
    {
      "cell_type": "code",
      "source": [],
      "metadata": {
        "id": "py4sAaLx3t2e"
      },
      "execution_count": null,
      "outputs": []
    },
    {
      "cell_type": "markdown",
      "metadata": {
        "id": "ABHYZzRb3mIk"
      },
      "source": [
        "# .index\n",
        "This attribute provides the index of the dataframe"
      ]
    },
    {
      "cell_type": "code",
      "source": [],
      "metadata": {
        "id": "oBML_BVX3tEz"
      },
      "execution_count": null,
      "outputs": []
    },
    {
      "cell_type": "markdown",
      "metadata": {
        "id": "uvR9gA3u3mIk"
      },
      "source": [
        "# .columns\n",
        "It shows the name of each column"
      ]
    },
    {
      "cell_type": "code",
      "execution_count": null,
      "metadata": {
        "id": "_c3PsQjr3mIk"
      },
      "outputs": [],
      "source": []
    },
    {
      "cell_type": "markdown",
      "metadata": {
        "id": "ZRnKODjQ3mIk"
      },
      "source": [
        "# .dtypes\n",
        "It shows the data-type of each column"
      ]
    },
    {
      "cell_type": "code",
      "execution_count": null,
      "metadata": {
        "id": "m4W7YuhP3mIk"
      },
      "outputs": [],
      "source": []
    },
    {
      "cell_type": "markdown",
      "metadata": {
        "id": "YhCFup_33mIk"
      },
      "source": [
        "# .unique()\n",
        "In a column, it shows all the unique values.\n",
        "It can be applied on a single column only, not on the whole dataframe."
      ]
    },
    {
      "cell_type": "code",
      "execution_count": null,
      "metadata": {
        "id": "B7nFo6Hc3mIk"
      },
      "outputs": [],
      "source": []
    },
    {
      "cell_type": "markdown",
      "metadata": {
        "id": "qFomt7UE3mIk"
      },
      "source": [
        "# .nunique()\n",
        "It shows the total no. of unique values in each column.\n",
        "It can be applied on a single column as well as on whole dataframe."
      ]
    },
    {
      "cell_type": "code",
      "execution_count": null,
      "metadata": {
        "id": "9DTpozuO3mIl"
      },
      "outputs": [],
      "source": []
    },
    {
      "cell_type": "markdown",
      "metadata": {
        "id": "HWL1PvbJ3mIl"
      },
      "source": [
        "# .count\n",
        "It shows the total no. of non-null values in each column.\n",
        "It can be applied on a single column as well as on whole dataframe."
      ]
    },
    {
      "cell_type": "code",
      "execution_count": null,
      "metadata": {
        "id": "49krdmQy3mIl"
      },
      "outputs": [],
      "source": []
    },
    {
      "cell_type": "markdown",
      "metadata": {
        "id": "md4EH36t3mIl"
      },
      "source": [
        "# .value_counts\n",
        "In a column, it shows all the unique values with their count. It can be applied on single column only."
      ]
    },
    {
      "cell_type": "code",
      "execution_count": null,
      "metadata": {
        "id": "Y-UmHOs03mIl"
      },
      "outputs": [],
      "source": []
    },
    {
      "cell_type": "markdown",
      "metadata": {
        "id": "O1Ml_UeW3mIl"
      },
      "source": [
        "# .info()\n",
        "Provides basic information about the dataframe."
      ]
    },
    {
      "cell_type": "code",
      "execution_count": null,
      "metadata": {
        "id": "TwvfTg5-3mIl"
      },
      "outputs": [],
      "source": []
    },
    {
      "cell_type": "markdown",
      "metadata": {
        "id": "LkgNMlnA3mIl"
      },
      "source": [
        "-----"
      ]
    },
    {
      "cell_type": "markdown",
      "metadata": {
        "id": "O2-Hg1uq3mIl"
      },
      "source": [
        "# Q) 1.  Find all the unique 'Wind Speed' values in the data."
      ]
    },
    {
      "cell_type": "code",
      "execution_count": null,
      "metadata": {
        "id": "eDKzUn5R3mIl"
      },
      "outputs": [],
      "source": []
    },
    {
      "cell_type": "markdown",
      "metadata": {
        "id": "-arB4Cpc3mIm"
      },
      "source": [
        "# Q) 2. Find the number of times when the 'Weather is exactly Clear'."
      ]
    },
    {
      "cell_type": "code",
      "execution_count": null,
      "metadata": {
        "id": "VEQrE2Lu3mIm"
      },
      "outputs": [],
      "source": []
    },
    {
      "cell_type": "markdown",
      "metadata": {
        "id": "LIHe0kes3mIm"
      },
      "source": [
        "# Q) 3. Find the number of times when the 'Wind Speed was exactly 4 km/h'."
      ]
    },
    {
      "cell_type": "code",
      "execution_count": null,
      "metadata": {
        "id": "Fc2JIYPp3mIm"
      },
      "outputs": [],
      "source": []
    },
    {
      "cell_type": "markdown",
      "metadata": {
        "id": "FRdCQta23mIm"
      },
      "source": [
        "# Q. 4) Find out all the Null Values in the data."
      ]
    },
    {
      "cell_type": "code",
      "execution_count": null,
      "metadata": {
        "id": "78WrKO1Y3mIm"
      },
      "outputs": [],
      "source": []
    },
    {
      "cell_type": "markdown",
      "metadata": {
        "id": "oPfDsigi3mIm"
      },
      "source": [
        "# Q. 5) Rename the column name 'Weather' of the dataframe to 'Weather Condition'."
      ]
    },
    {
      "cell_type": "code",
      "execution_count": null,
      "metadata": {
        "id": "OoCdZGdZ3mIm"
      },
      "outputs": [],
      "source": []
    },
    {
      "cell_type": "markdown",
      "metadata": {
        "id": "i14xC0CR3mIn"
      },
      "source": [
        "# Q.6) What is the mean 'Visibility' ?"
      ]
    },
    {
      "cell_type": "code",
      "execution_count": null,
      "metadata": {
        "id": "1-s59E823mIo"
      },
      "outputs": [],
      "source": []
    },
    {
      "cell_type": "markdown",
      "metadata": {
        "id": "bJAf9YCH3mIo"
      },
      "source": [
        "# Q. 7) What is the Standard Deviation of 'Pressure'  in this data?"
      ]
    },
    {
      "cell_type": "code",
      "execution_count": null,
      "metadata": {
        "id": "mgfesl1U3mIo"
      },
      "outputs": [],
      "source": []
    },
    {
      "cell_type": "markdown",
      "metadata": {
        "id": "4V-ehtmf3mIo"
      },
      "source": [
        "# Q. 8) Whats is the Variance of 'Relative Humidity' in this data ?"
      ]
    },
    {
      "cell_type": "code",
      "execution_count": null,
      "metadata": {
        "id": "Rd2nEl0z3mIo"
      },
      "outputs": [],
      "source": []
    },
    {
      "cell_type": "markdown",
      "metadata": {
        "id": "463Myoxt3mIo"
      },
      "source": [
        "# Q. 9) Find all instances when 'Snow' was recorded."
      ]
    },
    {
      "cell_type": "code",
      "execution_count": null,
      "metadata": {
        "id": "QpvSQFul3mIp"
      },
      "outputs": [],
      "source": []
    },
    {
      "cell_type": "markdown",
      "metadata": {
        "id": "E4qMgDmi3mIp"
      },
      "source": [
        "# Q. 10) Find all instances when 'Wind Speed is above 24' and 'Visibility is 25'."
      ]
    },
    {
      "cell_type": "code",
      "execution_count": null,
      "metadata": {
        "id": "KhXwh51R3mIp"
      },
      "outputs": [],
      "source": []
    },
    {
      "cell_type": "markdown",
      "metadata": {
        "id": "WRsjfjQF3mIp"
      },
      "source": [
        "# Q. 11) What is the Mean value of each column against each 'Weather Conditon' ?"
      ]
    },
    {
      "cell_type": "code",
      "execution_count": null,
      "metadata": {
        "id": "5w_CBREK3mIp"
      },
      "outputs": [],
      "source": []
    },
    {
      "cell_type": "markdown",
      "metadata": {
        "id": "_9lFUFU93mIp"
      },
      "source": [
        "# Q. 12) What is the Minimum & Maximum value of each column against each 'Weather Conditon' ?"
      ]
    },
    {
      "cell_type": "code",
      "execution_count": null,
      "metadata": {
        "id": "kt1nkeKd3mIp"
      },
      "outputs": [],
      "source": []
    },
    {
      "cell_type": "markdown",
      "metadata": {
        "id": "JqaemBDb3mIp"
      },
      "source": [
        "# Q. 13) Show all the Records where Weather Condition is Fog."
      ]
    },
    {
      "cell_type": "code",
      "execution_count": null,
      "metadata": {
        "id": "Y9J9ukK73mIp"
      },
      "outputs": [],
      "source": []
    },
    {
      "cell_type": "markdown",
      "metadata": {
        "id": "m8cbBitw3mIp"
      },
      "source": [
        "# Q. 14) Find all instances when 'Weather is Clear' or 'Visibility is above 40'."
      ]
    },
    {
      "cell_type": "code",
      "execution_count": null,
      "metadata": {
        "id": "wHrmOCsA3mIp"
      },
      "outputs": [],
      "source": []
    },
    {
      "cell_type": "markdown",
      "metadata": {
        "id": "El0dvwV63mIp"
      },
      "source": [
        "# Q. 15) Find all instances when :\n",
        "### A. 'Weather is Clear' and 'Relative Humidity is greater than 50'\n",
        "### or\n",
        "### B. 'Visibility is above 40'"
      ]
    },
    {
      "cell_type": "code",
      "execution_count": null,
      "metadata": {
        "id": "bvuojM1a3mIp"
      },
      "outputs": [],
      "source": []
    },
    {
      "cell_type": "markdown",
      "metadata": {
        "id": "l1O6KNnb3mIq"
      },
      "source": [
        "----"
      ]
    }
  ],
  "metadata": {
    "kernelspec": {
      "display_name": "Python 3",
      "language": "python",
      "name": "python3"
    },
    "language_info": {
      "codemirror_mode": {
        "name": "ipython",
        "version": 3
      },
      "file_extension": ".py",
      "mimetype": "text/x-python",
      "name": "python",
      "nbconvert_exporter": "python",
      "pygments_lexer": "ipython3",
      "version": "3.8.3"
    },
    "colab": {
      "provenance": [],
      "include_colab_link": true
    }
  },
  "nbformat": 4,
  "nbformat_minor": 0
}