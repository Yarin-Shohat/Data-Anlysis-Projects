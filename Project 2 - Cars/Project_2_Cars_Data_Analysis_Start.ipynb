{
  "cells": [
    {
      "cell_type": "markdown",
      "metadata": {
        "id": "view-in-github",
        "colab_type": "text"
      },
      "source": [
        "<a href=\"https://colab.research.google.com/github/Yarin-Shohat/Data-Anlysis-Projects/blob/main/Project%202%20-%20Cars/Project_2_Cars_Data_Analysis_Start.ipynb\" target=\"_parent\"><img src=\"https://colab.research.google.com/assets/colab-badge.svg\" alt=\"Open In Colab\"/></a>"
      ]
    },
    {
      "cell_type": "markdown",
      "metadata": {
        "id": "VD9cretxFUrl"
      },
      "source": [
        "# **Working on Real Project with Python**"
      ]
    },
    {
      "cell_type": "markdown",
      "metadata": {
        "id": "jihiIa9OFUro"
      },
      "source": [
        "# Cars Dataset\n",
        "***\n",
        "Here,\n",
        "The data of different cars is given with their specifications.\n",
        "\n",
        "\n",
        "This data is available as a CSV file. We are going to analyze this data set using the Pandas DataFrame."
      ]
    },
    {
      "cell_type": "markdown",
      "source": [
        "Import Pandas"
      ],
      "metadata": {
        "id": "sd81cAdJ38om"
      }
    },
    {
      "cell_type": "code",
      "execution_count": null,
      "metadata": {
        "id": "2CgEakEK3mIi"
      },
      "outputs": [],
      "source": []
    },
    {
      "cell_type": "markdown",
      "source": [
        "Read Data with Pandas"
      ],
      "metadata": {
        "id": "zAOKlCPK4Aex"
      }
    },
    {
      "cell_type": "code",
      "source": [],
      "metadata": {
        "id": "RuG94JE14DzP"
      },
      "execution_count": null,
      "outputs": []
    },
    {
      "cell_type": "markdown",
      "source": [
        "Show the Data"
      ],
      "metadata": {
        "id": "w-g0LYSJ4EPe"
      }
    },
    {
      "cell_type": "code",
      "source": [],
      "metadata": {
        "id": "1u2ofSaq4EcQ"
      },
      "execution_count": null,
      "outputs": []
    },
    {
      "cell_type": "markdown",
      "metadata": {
        "id": "8pDq1dSzFUrp"
      },
      "source": [
        "# 1) Instruction ( For Data Cleaning )\n",
        "- Find all Null Values in the dataset. If there is any null value in any column, then fill it with the mean of that column."
      ]
    },
    {
      "cell_type": "code",
      "execution_count": null,
      "metadata": {
        "id": "oPL33TUeFUrp"
      },
      "outputs": [],
      "source": []
    },
    {
      "cell_type": "markdown",
      "metadata": {
        "id": "kSh_QiT0FUrp"
      },
      "source": [
        "----"
      ]
    },
    {
      "cell_type": "markdown",
      "metadata": {
        "id": "C-j3GlxFFUrq"
      },
      "source": [
        "# 2) Question ( Based on Value Counts )\n",
        "- Check what are the different types of Make are there in our dataset. And, what is the count (occurrence) of each Make in the data\n",
        "?"
      ]
    },
    {
      "cell_type": "code",
      "execution_count": null,
      "metadata": {
        "id": "YoErPHY_FUrq"
      },
      "outputs": [],
      "source": []
    },
    {
      "cell_type": "markdown",
      "metadata": {
        "id": "Xq5FAkryFUrq"
      },
      "source": [
        "----"
      ]
    },
    {
      "cell_type": "markdown",
      "metadata": {
        "id": "Me-rkV6EFUrq"
      },
      "source": [
        "# 3) Instruction ( Filtering )\n",
        "- Show all the records where Origin is Asia or Europe."
      ]
    },
    {
      "cell_type": "code",
      "execution_count": null,
      "metadata": {
        "id": "ggmBYu_RFUrq"
      },
      "outputs": [],
      "source": []
    },
    {
      "cell_type": "markdown",
      "metadata": {
        "id": "sakHL_wyFUrr"
      },
      "source": [
        "----"
      ]
    },
    {
      "cell_type": "markdown",
      "metadata": {
        "id": "udm-tIKWFUrr"
      },
      "source": [
        "# 4) Instruction ( Removing unwanted records )\n",
        "- Remove all the records (rows) where Weight is above 4000."
      ]
    },
    {
      "cell_type": "code",
      "source": [],
      "metadata": {
        "id": "CFFF2aH9GDIt"
      },
      "execution_count": null,
      "outputs": []
    },
    {
      "cell_type": "markdown",
      "metadata": {
        "id": "gMkZXPOFFUrs"
      },
      "source": [
        "-----"
      ]
    },
    {
      "cell_type": "markdown",
      "metadata": {
        "id": "uU3JB-kEFUrs"
      },
      "source": [
        "# 5) Instruction ( Applying function on a column )\n",
        "- Increase all the values of 'MPG_City' column by 3."
      ]
    },
    {
      "cell_type": "code",
      "source": [],
      "metadata": {
        "id": "MPydecSsGEUL"
      },
      "execution_count": null,
      "outputs": []
    },
    {
      "cell_type": "markdown",
      "metadata": {
        "id": "dOUrXf7eFUrs"
      },
      "source": [
        "----"
      ]
    }
  ],
  "metadata": {
    "kernelspec": {
      "display_name": "Python 3",
      "language": "python",
      "name": "python3"
    },
    "language_info": {
      "codemirror_mode": {
        "name": "ipython",
        "version": 3
      },
      "file_extension": ".py",
      "mimetype": "text/x-python",
      "name": "python",
      "nbconvert_exporter": "python",
      "pygments_lexer": "ipython3",
      "version": "3.8.3"
    },
    "colab": {
      "provenance": [],
      "include_colab_link": true
    }
  },
  "nbformat": 4,
  "nbformat_minor": 0
}